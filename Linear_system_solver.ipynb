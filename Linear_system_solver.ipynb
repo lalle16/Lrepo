{
 "cells": [
  {
   "cell_type": "code",
   "execution_count": 9,
   "metadata": {},
   "outputs": [
    {
     "name": "stdout",
     "output_type": "stream",
     "text": [
      "[ 4. 10.]\n"
     ]
    }
   ],
   "source": [
    "# Løsning af system of equations:\n",
    "\n",
    "# 3x−y=2\n",
    "# x = 4x=4\n",
    "\n",
    "# I matrixform:\n",
    "# |3,-1| |x| = |2|\n",
    "# |1, 0| |y| = |4|\n",
    "\n",
    "import numpy as np \n",
    "\n",
    "# Koefficient matrix (A):\n",
    "x = np.array([[3,-1],[1,0]]) \n",
    "# Inverse af koefficient matrix (A^-1):\n",
    "x_inv = np.linalg.inv(x) \n",
    "# Konstanter\n",
    "y = [2,4]\n",
    "\n",
    "# A^-1*A = A^-1*Y\n",
    "result = np.dot(x_inv,y)\n",
    "print(result)\n"
   ]
  }
 ],
 "metadata": {
  "kernelspec": {
   "display_name": "Python 3",
   "language": "python",
   "name": "python3"
  },
  "language_info": {
   "codemirror_mode": {
    "name": "ipython",
    "version": 3
   },
   "file_extension": ".py",
   "mimetype": "text/x-python",
   "name": "python",
   "nbconvert_exporter": "python",
   "pygments_lexer": "ipython3",
   "version": "3.7.6"
  }
 },
 "nbformat": 4,
 "nbformat_minor": 4
}
