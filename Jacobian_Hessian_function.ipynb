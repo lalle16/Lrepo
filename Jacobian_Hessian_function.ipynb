{
 "cells": [
  {
   "cell_type": "code",
   "execution_count": 126,
   "metadata": {},
   "outputs": [],
   "source": [
    "from sympy import symbols, diff, exp, log, ln, cos, sin, tan, pi\n",
    "from IPython.display import display"
   ]
  },
  {
   "cell_type": "code",
   "execution_count": 141,
   "metadata": {},
   "outputs": [],
   "source": [
    "def Jacobian(novar,func):\n",
    "    if novar == 1:\n",
    "        x = symbols('x')\n",
    "        result = diff(f,x)\n",
    "        result = list(result)\n",
    "        return result\n",
    "    elif novar == 2:\n",
    "        x, y = symbols('x y')\n",
    "        result = diff(f,x), diff(f,y)\n",
    "        result = list(result)\n",
    "        return result        \n",
    "    elif novar == 3:\n",
    "        x, y, z = symbols('x y z')\n",
    "        result = diff(f,x), diff(f,y), diff(f,z)\n",
    "        result = list(result)\n",
    "        return result\n",
    "    else:\n",
    "        print('Too many variables')"
   ]
  },
  {
   "cell_type": "code",
   "execution_count": 142,
   "metadata": {},
   "outputs": [],
   "source": [
    "f = x**2*cos(y)+exp(z)*sin(y)"
   ]
  },
  {
   "cell_type": "code",
   "execution_count": 144,
   "metadata": {},
   "outputs": [],
   "source": [
    "Jac1 = Jacobian(3,f)"
   ]
  },
  {
   "cell_type": "code",
   "execution_count": 145,
   "metadata": {},
   "outputs": [
    {
     "data": {
      "image/png": "[encoded data removed]",
      "text/latex": [
       "$\\displaystyle \\left[ 2 x \\cos{\\left(y \\right)}, \\  - x^{2} \\sin{\\left(y \\right)} + e^{z} \\cos{\\left(y \\right)}, \\  e^{z} \\sin{\\left(y \\right)}\\right]$"
      ],
      "text/plain": [
       "⎡               2           z          z       ⎤\n",
       "⎣2⋅x⋅cos(y), - x ⋅sin(y) + ℯ ⋅cos(y), ℯ ⋅sin(y)⎦"
      ]
     },
     "metadata": {},
     "output_type": "display_data"
    }
   ],
   "source": [
    "display(Jac1)"
   ]
  },
  {
   "cell_type": "code",
   "execution_count": 157,
   "metadata": {},
   "outputs": [],
   "source": [
    "x = pi\n",
    "y = pi"
   ]
  },
  {
   "cell_type": "code",
   "execution_count": 159,
   "metadata": {},
   "outputs": [
    {
     "data": {
      "image/png": "[encoded data removed]",
      "text/latex": [
       "$\\displaystyle - 2 \\pi$"
      ],
      "text/plain": [
       "-2⋅π"
      ]
     },
     "execution_count": 159,
     "metadata": {},
     "output_type": "execute_result"
    }
   ],
   "source": [
    "eval(str(Jac1[0]))"
   ]
  }
 ],
 "metadata": {
  "kernelspec": {
   "display_name": "Python 3",
   "language": "python",
   "name": "python3"
  },
  "language_info": {
   "codemirror_mode": {
    "name": "ipython",
    "version": 3
   },
   "file_extension": ".py",
   "mimetype": "text/x-python",
   "name": "python",
   "nbconvert_exporter": "python",
   "pygments_lexer": "ipython3",
   "version": "3.7.6"
  }
 },
 "nbformat": 4,
 "nbformat_minor": 4
}
